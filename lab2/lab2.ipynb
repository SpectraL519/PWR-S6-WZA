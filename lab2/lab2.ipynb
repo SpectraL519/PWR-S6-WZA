{
 "cells": [
  {
   "cell_type": "markdown",
   "metadata": {},
   "source": [
    "## Exercise 6\n",
    "\n",
    "![](ex6/ex6_1.png)\n",
    "\n",
    "![](ex6/ex6_2.png)"
   ]
  },
  {
   "cell_type": "code",
   "execution_count": 1,
   "metadata": {},
   "outputs": [
    {
     "name": "stdout",
     "output_type": "stream",
     "text": [
      "M(l1) = [(1, 11), (2, 6), (3, 4), (4, 3), (6, 2), (11, 1)]\n",
      "\tlen = 6\n",
      "M(l2) = [(5, 10), (6, 7), (7, 6), (10, 5)]\n",
      "\tlen = 4\n"
     ]
    }
   ],
   "source": [
    "from ex6.natural_tuple import NaturalTuple, minimal_elements\n",
    "\n",
    "l1 = [NaturalTuple((n, k)) for n in range(50) for k in range(50) if n * k >= 11]\n",
    "m1 = minimal_elements(l1)\n",
    "print(f\"M(l1) = {m1}\\n\\tlen = {len(m1)}\")\n",
    "\n",
    "l2 = [NaturalTuple((n, k)) for n in range(50) for k in range(50) if (n - 10) ** 2 + (k - 10) ** 2 <= 25]\n",
    "m2 = minimal_elements(l2)\n",
    "print(f\"M(l2) = {m2}\\n\\tlen = {len(m2)}\")"
   ]
  },
  {
   "cell_type": "markdown",
   "metadata": {},
   "source": [
    "## Exercise 7\n",
    "\n",
    "![](ex7/ex7_1.png)\n",
    "\n",
    "![](ex7/ex7_2.png)"
   ]
  },
  {
   "cell_type": "code",
   "execution_count": 2,
   "metadata": {},
   "outputs": [
    {
     "name": "stdout",
     "output_type": "stream",
     "text": [
      "gcd(f1, g1, h1) = -1 + -x + -x^2\n",
      "gcd(f2, g2, h2) = -12 + 6x\n"
     ]
    }
   ],
   "source": [
    "import sys; sys.path.append(\"..\")\n",
    "from lab1.ex2.polynomials import Polynomial\n",
    "\n",
    "def poly_gcd(f: Polynomial, g: Polynomial, h: Polynomial) -> Polynomial:\n",
    "    return Polynomial.gcd(f, Polynomial.gcd(g, h))\n",
    "\n",
    "f1 = Polynomial([1, 0, 1, 0, 1])    # 1 + x^2 + x^4\n",
    "g1 = Polynomial([-1, -2, -1, 0, 1]) # -1 - 2x - x^2 + x^4\n",
    "h1 = Polynomial([-1, 0, 0, 1])      # -1 + x^3\n",
    "print(f\"gcd(f1, g1, h1) = {poly_gcd(f1, g1, h1)}\")\n",
    "\n",
    "f2 = Polynomial([-4, -4, 1, 1]) # -4 - 4x + x^2 + x^3\n",
    "g2 = Polynomial([4, -4, -1, 1]) # 4 - 4x - x^2 + x^3\n",
    "h2 = Polynomial([2, -1, -2, 1]) # 2 - x - 2x^2 + x^3\n",
    "print(f\"gcd(f2, g2, h2) = {poly_gcd(f2, g2, h2)}\")"
   ]
  },
  {
   "cell_type": "markdown",
   "metadata": {},
   "source": [
    "## Exercise 8\n",
    "\n",
    "![](ex8/solve_diophantine.png)"
   ]
  },
  {
   "cell_type": "code",
   "execution_count": 3,
   "metadata": {},
   "outputs": [
    {
     "name": "stdout",
     "output_type": "stream",
     "text": [
      "gcd(f, g) = 1\n",
      "Af + Bg = gcd(f, g) => A = 1, B = 0 + -x\n",
      "Test: Af + Bg = 1\n"
     ]
    }
   ],
   "source": [
    "import sys; sys.path.append(\"..\")\n",
    "from lab1.ex2.polynomials import Polynomial\n",
    "\n",
    "def poly_solve_diophantine(f: Polynomial, g: Polynomial):\n",
    "    if len(g) == 0:\n",
    "        return Polynomial([1]), Polynomial([0])\n",
    "\n",
    "    q, r = Polynomial.div_rem(f, g)\n",
    "    a, b = poly_solve_diophantine(g, r)\n",
    "    return b, a - q * b\n",
    "\n",
    "\n",
    "f = Polynomial([1, 1, 1]) # 1 + x + x^2\n",
    "g = Polynomial([1, 1])    # 1 + x\n",
    "A, B = poly_solve_diophantine(f, g)\n",
    "print(f\"gcd(f, g) = {Polynomial.gcd(f, g)}\")\n",
    "print(f\"Af + Bg = gcd(f, g) => A = {str(A)}, B = {str(B)}\")\n",
    "print(f\"Test: Af + Bg = {str(A * f + B * g)}\")"
   ]
  }
 ],
 "metadata": {
  "kernelspec": {
   "display_name": "wza",
   "language": "python",
   "name": "python3"
  },
  "language_info": {
   "codemirror_mode": {
    "name": "ipython",
    "version": 3
   },
   "file_extension": ".py",
   "mimetype": "text/x-python",
   "name": "python",
   "nbconvert_exporter": "python",
   "pygments_lexer": "ipython3",
   "version": "3.9.13"
  }
 },
 "nbformat": 4,
 "nbformat_minor": 2
}
